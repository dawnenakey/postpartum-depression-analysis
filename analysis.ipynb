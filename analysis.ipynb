{
 "cells": [
  {
   "cell_type": "code",
   "execution_count": 1,
   "metadata": {},
   "outputs": [
    {
     "name": "stdout",
     "output_type": "stream",
     "text": [
      "Requirement already satisfied: pandas in /Users/dawnenakey/myenv/lib/python3.13/site-packages (2.2.3)\n",
      "Requirement already satisfied: numpy>=1.26.0 in /Users/dawnenakey/myenv/lib/python3.13/site-packages (from pandas) (2.2.2)\n",
      "Requirement already satisfied: python-dateutil>=2.8.2 in /Users/dawnenakey/myenv/lib/python3.13/site-packages (from pandas) (2.9.0.post0)\n",
      "Requirement already satisfied: pytz>=2020.1 in /Users/dawnenakey/myenv/lib/python3.13/site-packages (from pandas) (2024.2)\n",
      "Requirement already satisfied: tzdata>=2022.7 in /Users/dawnenakey/myenv/lib/python3.13/site-packages (from pandas) (2025.1)\n",
      "Requirement already satisfied: six>=1.5 in /Users/dawnenakey/myenv/lib/python3.13/site-packages (from python-dateutil>=2.8.2->pandas) (1.17.0)\n",
      "\n",
      "\u001b[1m[\u001b[0m\u001b[34;49mnotice\u001b[0m\u001b[1;39;49m]\u001b[0m\u001b[39;49m A new release of pip is available: \u001b[0m\u001b[31;49m24.3.1\u001b[0m\u001b[39;49m -> \u001b[0m\u001b[32;49m25.0.1\u001b[0m\n",
      "\u001b[1m[\u001b[0m\u001b[34;49mnotice\u001b[0m\u001b[1;39;49m]\u001b[0m\u001b[39;49m To update, run: \u001b[0m\u001b[32;49mpip install --upgrade pip\u001b[0m\n",
      "Note: you may need to restart the kernel to use updated packages.\n"
     ]
    }
   ],
   "source": [
    "pip install pandas\n"
   ]
  },
  {
   "cell_type": "code",
   "execution_count": 2,
   "metadata": {},
   "outputs": [
    {
     "name": "stdout",
     "output_type": "stream",
     "text": [
      "         Timestamp    Age Feeling sad or Tearful  \\\n",
      "0  6/14/2022 20:02  35-40                    Yes   \n",
      "1  6/14/2022 20:03  40-45                    Yes   \n",
      "2  6/14/2022 20:04  35-40                    Yes   \n",
      "3  6/14/2022 20:05  35-40                    Yes   \n",
      "4  6/14/2022 20:06  40-45                    Yes   \n",
      "\n",
      "  Irritable towards baby & partner Trouble sleeping at night  \\\n",
      "0                              Yes   Two or more days a week   \n",
      "1                               No                        No   \n",
      "2                               No                       Yes   \n",
      "3                              Yes                       Yes   \n",
      "4                               No   Two or more days a week   \n",
      "\n",
      "  Problems concentrating or making decision Overeating or loss of appetite  \\\n",
      "0                                       Yes                            Yes   \n",
      "1                                       Yes                            Yes   \n",
      "2                                       Yes                            Yes   \n",
      "3                                       Yes                             No   \n",
      "4                                       Yes                             No   \n",
      "\n",
      "  Feeling anxious Feeling of guilt Problems of bonding with baby  \\\n",
      "0             Yes               No                           Yes   \n",
      "1              No              Yes                           Yes   \n",
      "2             Yes               No                     Sometimes   \n",
      "3             Yes            Maybe                            No   \n",
      "4             Yes               No                           Yes   \n",
      "\n",
      "  Suicide attempt  \n",
      "0             Yes  \n",
      "1              No  \n",
      "2              No  \n",
      "3              No  \n",
      "4              No  \n",
      "\n",
      "Column Names:\n",
      " Index(['Timestamp', 'Age', 'Feeling sad or Tearful',\n",
      "       'Irritable towards baby & partner', 'Trouble sleeping at night',\n",
      "       'Problems concentrating or making decision',\n",
      "       'Overeating or loss of appetite', 'Feeling anxious', 'Feeling of guilt',\n",
      "       'Problems of bonding with baby', 'Suicide attempt'],\n",
      "      dtype='object')\n",
      "\n",
      "Missing Values:\n",
      " Timestamp                                     0\n",
      "Age                                           0\n",
      "Feeling sad or Tearful                        0\n",
      "Irritable towards baby & partner              6\n",
      "Trouble sleeping at night                     0\n",
      "Problems concentrating or making decision    12\n",
      "Overeating or loss of appetite                0\n",
      "Feeling anxious                               0\n",
      "Feeling of guilt                              9\n",
      "Problems of bonding with baby                 0\n",
      "Suicide attempt                               0\n",
      "dtype: int64\n",
      "\n",
      "Dataset Shape: (1503, 11)\n"
     ]
    }
   ],
   "source": [
    "from postpartum_ml_repo import load_data, preprocess_data, train_model\n",
    "import pandas as pd\n",
    "\n",
    "\n",
    "df = pd.read_csv(\"data/final_merged_postpartum_data.csv\")\n",
    "\n",
    "print(df.head())\n",
    "print(\"\\nColumn Names:\\n\", df.columns)\n",
    "print(\"\\nMissing Values:\\n\", df.isnull().sum())\n",
    "print(\"\\nDataset Shape:\", df.shape)"
   ]
  },
  {
   "cell_type": "code",
   "execution_count": 3,
   "metadata": {},
   "outputs": [
    {
     "name": "stdout",
     "output_type": "stream",
     "text": [
      "\n",
      "Missing Values After Cleaning:\n",
      " Age                                          0\n",
      "Feeling sad or Tearful                       0\n",
      "Irritable towards baby & partner             0\n",
      "Trouble sleeping at night                    0\n",
      "Problems concentrating or making decision    0\n",
      "Overeating or loss of appetite               0\n",
      "Feeling anxious                              0\n",
      "Feeling of guilt                             0\n",
      "Problems of bonding with baby                0\n",
      "Suicide attempt                              0\n",
      "dtype: int64\n"
     ]
    }
   ],
   "source": [
    "\n",
    "from postpartum_ml_repo import preprocess_data\n",
    "\n",
    "df, encoders = preprocess_data(df)\n",
    "\n",
    "print(df.head())\n",
    "\n",
    "trained_model = train_model(df)"
   ]
  },
  {
   "cell_type": "code",
   "execution_count": 5,
   "metadata": {},
   "outputs": [
    {
     "name": "stdout",
     "output_type": "stream",
     "text": [
      "0    4\n",
      "1    5\n",
      "2    4\n",
      "3    4\n",
      "4    5\n",
      "Name: Age, dtype: int64\n"
     ]
    }
   ],
   "source": [
    "\n",
    "age_mapping = {\"18-25\": 1, \"25-30\": 2, \"30-35\": 3, \"35-40\": 4, \"40-45\": 5, \"45-50\": 6}\n",
    "df[\"Age\"] = df[\"Age\"].map(age_mapping)\n",
    "\n",
    "print(df[\"Age\"].head())\n"
   ]
  },
  {
   "cell_type": "code",
   "execution_count": 6,
   "metadata": {},
   "outputs": [
    {
     "name": "stdout",
     "output_type": "stream",
     "text": [
      "✅ Data Cleaning Completed! Saved as 'cleaned_postpartum_data.csv'\n"
     ]
    }
   ],
   "source": [
    "\n",
    "df.to_csv(\"cleaned_postpartum_data.csv\", index=False)\n",
    "\n",
    "print(\"Data Cleaning Completed! Saved as 'cleaned_postpartum_data.csv'\")\n"
   ]
  },
  {
   "cell_type": "code",
   "execution_count": 9,
   "metadata": {},
   "outputs": [
    {
     "name": "stderr",
     "output_type": "stream",
     "text": [
      "/var/folders/5z/lvxb55rs025cbt7mw995_1gm0000gp/T/ipykernel_2120/3911591938.py:4: DtypeWarning: Columns (6,61) have mixed types. Specify dtype option on import or set low_memory=False.\n",
      "  df_maternal = pd.read_csv(\"/Users/dawnenakey/Downloads/Dataset_maternal_mental_health_infant_sleep.csv\", encoding=\"ISO-8859-1\")\n"
     ]
    },
    {
     "name": "stdout",
     "output_type": "stream",
     "text": [
      "\n",
      "Maternal Mental Health Dataset Sample:\n",
      "   Participant_number  Type_parents  Birth_1mth_M_inclusion  \\\n",
      "0                 1.0           1.0                     1.0   \n",
      "1                 2.0           1.0                     1.0   \n",
      "2                 3.0           1.0                     1.0   \n",
      "3                 4.0           1.0                     1.0   \n",
      "4                 5.0           1.0                     1.0   \n",
      "\n",
      "   Birth_12mth_M_inclusion   Age  Marital_status Marital_status_Autre  \\\n",
      "0                      1.0  34.0             2.0                  NaN   \n",
      "1                      1.0  33.0             2.0                  NaN   \n",
      "2                      1.0  37.0             2.0                  NaN   \n",
      "3                      1.0  31.0             2.0                  NaN   \n",
      "4                      1.0  36.0             1.0                  NaN   \n",
      "\n",
      "   Marital_status_edit  Education  Gestationnal_age  ...  IBQ_R_VSF_10_bb1  \\\n",
      "0                  2.0        5.0              37.0  ...               NaN   \n",
      "1                  2.0        5.0              42.0  ...               2.0   \n",
      "2                  2.0        5.0              41.0  ...               4.0   \n",
      "3                  2.0        5.0              37.5  ...               1.0   \n",
      "4                  1.0        5.0              40.0  ...               4.0   \n",
      "\n",
      "   IBQ_R_VSF_16_bb1  IBQ_R_VSF_17_bb1  IBQ_R_VSF_28_bb1  IBQ_R_VSF_29_bb1  \\\n",
      "0               7.0               NaN               NaN               7.0   \n",
      "1               3.0               2.0               2.0               2.0   \n",
      "2               4.0               3.0               1.0               4.0   \n",
      "3               3.0               NaN               NaN               NaN   \n",
      "4               2.0               2.0               4.0               5.0   \n",
      "\n",
      "   IBQ_R_VSF_32_bb1  IBQ_R_VSF_33_bb1  Sleep_night_duration_bb1  \\\n",
      "0               6.0               NaN                     10:00   \n",
      "1               3.0               4.0                     11:00   \n",
      "2               NaN               NaN                     12:00   \n",
      "3               5.0               NaN                     11:00   \n",
      "4               6.0               6.0                     10:30   \n",
      "\n",
      "   night_awakening_number_bb1  how_falling_asleep_bb1  \n",
      "0                         3.0                     2.0  \n",
      "1                         0.0                     4.0  \n",
      "2                         1.0                     2.0  \n",
      "3                         2.0                     1.0  \n",
      "4                         1.0                     4.0  \n",
      "\n",
      "[5 rows x 64 columns]\n"
     ]
    }
   ],
   "source": [
    "import pandas as pd\n",
    "\n",
    "df_maternal = pd.read_csv(\"/Users/dawnenakey/Downloads/Dataset_maternal_mental_health_infant_sleep.csv\", encoding=\"ISO-8859-1\")\n",
    "\n",
    "# Display first few rows\n",
    "print(\"\\n Maternal Mental Health Dataset Sample:\")\n",
    "print(df_maternal.head())\n",
    "\n"
   ]
  },
  {
   "cell_type": "code",
   "execution_count": 10,
   "metadata": {},
   "outputs": [
    {
     "name": "stdout",
     "output_type": "stream",
     "text": [
      "Participant_number            float64\n",
      "Type_parents                  float64\n",
      "Birth_1mth_M_inclusion        float64\n",
      "Birth_12mth_M_inclusion       float64\n",
      "Age                           float64\n",
      "                               ...   \n",
      "IBQ_R_VSF_32_bb1              float64\n",
      "IBQ_R_VSF_33_bb1              float64\n",
      "Sleep_night_duration_bb1       object\n",
      "night_awakening_number_bb1    float64\n",
      "how_falling_asleep_bb1        float64\n",
      "Length: 64, dtype: object\n",
      "\n",
      "✅ Mixed-type columns converted to strings.\n"
     ]
    }
   ],
   "source": [
    "\n",
    "print(df_maternal.dtypes)\n",
    "\n",
    "mixed_cols = [\"Sleep_night_duration_bb1\", \"Marital_status_Autre\"]  \n",
    "\n",
    "for col in mixed_cols:\n",
    "    df_maternal[col] = df_maternal[col].astype(str)\n",
    "\n",
    "print(\"\\n Mixed-type columns converted to strings.\")\n"
   ]
  },
  {
   "cell_type": "code",
   "execution_count": 12,
   "metadata": {},
   "outputs": [
    {
     "name": "stdout",
     "output_type": "stream",
     "text": [
      "\n",
      "✅ Missing values handled successfully.\n"
     ]
    }
   ],
   "source": [
    "\n",
    "df_maternal.dropna(thresh=len(df_maternal) * 0.5, axis=1, inplace=True)\n",
    "\n",
    "categorical_cols = df_maternal.select_dtypes(include=[\"object\"]).columns\n",
    "for col in categorical_cols:\n",
    "    df_maternal.loc[:, col] = df_maternal[col].fillna(df_maternal[col].mode()[0])\n",
    "\n",
    "numerical_cols = df_maternal.select_dtypes(include=[\"number\"]).columns\n",
    "for col in numerical_cols:\n",
    "    df_maternal.loc[:, col] = df_maternal[col].fillna(df_maternal[col].median())\n",
    "\n",
    "print(\"\\n Missing values handled successfully.\")\n"
   ]
  },
  {
   "cell_type": "code",
   "execution_count": 14,
   "metadata": {},
   "outputs": [
    {
     "name": "stdout",
     "output_type": "stream",
     "text": [
      "\n",
      "Available Columns in Maternal Dataset:\n",
      " Index(['Marital_status_Autre', 'Sleep_night_duration_bb1'], dtype='object')\n"
     ]
    }
   ],
   "source": [
    "print(\"\\nAvailable Columns in Maternal Dataset:\\n\", df_maternal.columns)\n"
   ]
  },
  {
   "cell_type": "code",
   "execution_count": 15,
   "metadata": {},
   "outputs": [
    {
     "name": "stdout",
     "output_type": "stream",
     "text": [
      "\n",
      "✅ Categorical variables encoded successfully.\n"
     ]
    }
   ],
   "source": [
    "from sklearn.preprocessing import LabelEncoder\n",
    "\n",
    "\n",
    "categorical_features_maternal = [\"Marital_status_Autre\", \"Sleep_night_duration_bb1\"]\n",
    "\n",
    "label_encoders_maternal = {}\n",
    "for col in categorical_features_maternal:\n",
    "    if col in df_maternal.columns: \n",
    "        le = LabelEncoder()\n",
    "        df_maternal[col] = le.fit_transform(df_maternal[col])\n",
    "        label_encoders_maternal[col] = le  # Store encoders\n",
    "\n",
    "print(\"\\n Categorical variables encoded successfully.\")\n",
    "\n",
    "\n"
   ]
  },
  {
   "cell_type": "code",
   "execution_count": 16,
   "metadata": {},
   "outputs": [
    {
     "name": "stdout",
     "output_type": "stream",
     "text": [
      "\n",
      "✅ Age column standardized.\n"
     ]
    }
   ],
   "source": [
    "from sklearn.preprocessing import StandardScaler\n",
    "\n",
    "# Normalize Age column\n",
    "if \"Age\" in df_maternal.columns:\n",
    "    scaler = StandardScaler()\n",
    "    df_maternal[\"Age\"] = scaler.fit_transform(df_maternal[[\"Age\"]])\n",
    "\n",
    "print(\"\\n Age column standardized.\")\n"
   ]
  },
  {
   "cell_type": "code",
   "execution_count": 17,
   "metadata": {},
   "outputs": [
    {
     "name": "stdout",
     "output_type": "stream",
     "text": [
      "\n",
      "✅ Cleaned Maternal Mental Health Dataset Saved as 'cleaned_maternal_data.csv'\n"
     ]
    }
   ],
   "source": [
    "# Save the cleaned dataset for merging\n",
    "df_maternal.to_csv(\"cleaned_maternal_data.csv\", index=False)\n",
    "\n",
    "print(\"\\n✅ Cleaned Maternal Mental Health Dataset Saved as 'cleaned_maternal_data.csv'\")\n"
   ]
  },
  {
   "cell_type": "code",
   "execution_count": 18,
   "metadata": {},
   "outputs": [
    {
     "name": "stdout",
     "output_type": "stream",
     "text": [
      "Postpartum Dataset Shape: (1503, 10)\n",
      "Maternal Health Dataset Shape: (1048292, 2)\n"
     ]
    }
   ],
   "source": [
    "import pandas as pd\n",
    "\n",
    "# Load cleaned postpartum dataset\n",
    "df_postpartum = pd.read_csv(\"/Users/dawnenakey/postpartum-depression-analysis/cleaned_postpartum_data.csv\")\n",
    "\n",
    "# Load cleaned maternal mental health dataset\n",
    "df_maternal = pd.read_csv(\"/Users/dawnenakey/postpartum-depression-analysis/cleaned_maternal_data.csv\")\n",
    "\n",
    "# Display dataset shapes\n",
    "print(\"Postpartum Dataset Shape:\", df_postpartum.shape)\n",
    "print(\"Maternal Health Dataset Shape:\", df_maternal.shape)\n"
   ]
  },
  {
   "cell_type": "code",
   "execution_count": 19,
   "metadata": {},
   "outputs": [
    {
     "name": "stdout",
     "output_type": "stream",
     "text": [
      "Updated Maternal Dataset Columns: Index(['Marital_status', 'Sleep_night_duration'], dtype='object')\n"
     ]
    }
   ],
   "source": [
    "\n",
    "df_maternal.rename(columns={\n",
    "    \"Marital_status_Autre\": \"Marital_status\",\n",
    "    \"Sleep_night_duration_bb1\": \"Sleep_night_duration\"\n",
    "}, inplace=True)\n",
    "\n",
    "print(\"Updated Maternal Dataset Columns:\", df_maternal.columns)\n"
   ]
  },
  {
   "cell_type": "code",
   "execution_count": 20,
   "metadata": {},
   "outputs": [
    {
     "name": "stdout",
     "output_type": "stream",
     "text": [
      "\n",
      "✅ Merging Completed! Saved as 'final_merged_postpartum_data.csv'.\n",
      "\n",
      "Final Merged Dataset Shape: (1049795, 12)\n",
      "\n",
      "Sample Data:\n",
      "    Age  Feeling sad or Tearful  Irritable towards baby & partner  \\\n",
      "0  4.0                     2.0                               2.0   \n",
      "1  5.0                     2.0                               0.0   \n",
      "2  4.0                     2.0                               0.0   \n",
      "3  4.0                     2.0                               2.0   \n",
      "4  5.0                     2.0                               0.0   \n",
      "\n",
      "   Trouble sleeping at night  Problems concentrating or making decision  \\\n",
      "0                        1.0                                        2.0   \n",
      "1                        0.0                                        2.0   \n",
      "2                        2.0                                        2.0   \n",
      "3                        2.0                                        2.0   \n",
      "4                        1.0                                        2.0   \n",
      "\n",
      "   Overeating or loss of appetite  Feeling anxious  Feeling of guilt  \\\n",
      "0                             2.0              1.0               1.0   \n",
      "1                             2.0              0.0               2.0   \n",
      "2                             2.0              1.0               1.0   \n",
      "3                             0.0              1.0               0.0   \n",
      "4                             0.0              1.0               1.0   \n",
      "\n",
      "   Problems of bonding with baby  Suicide attempt  Marital_status  \\\n",
      "0                            2.0              2.0             NaN   \n",
      "1                            2.0              0.0             NaN   \n",
      "2                            1.0              0.0             NaN   \n",
      "3                            0.0              0.0             NaN   \n",
      "4                            2.0              0.0             NaN   \n",
      "\n",
      "   Sleep_night_duration  \n",
      "0                   NaN  \n",
      "1                   NaN  \n",
      "2                   NaN  \n",
      "3                   NaN  \n",
      "4                   NaN  \n"
     ]
    }
   ],
   "source": [
    "\n",
    "merged_df = pd.concat([df_postpartum, df_maternal], axis=0, ignore_index=True)\n",
    "\n",
    "merged_df.to_csv(\"final_merged_postpartum_data.csv\", index=False)\n",
    "\n",
    "print(\"\\n Merging Completed! Saved as 'final_merged_postpartum_data.csv'.\")\n",
    "print(\"\\nFinal Merged Dataset Shape:\", merged_df.shape)\n",
    "print(\"\\nSample Data:\\n\", merged_df.head())\n"
   ]
  },
  {
   "cell_type": "code",
   "execution_count": 21,
   "metadata": {},
   "outputs": [
    {
     "name": "stdout",
     "output_type": "stream",
     "text": [
      "\n",
      "Missing Values in Merged Dataset:\n",
      " Age                                          1048292\n",
      "Feeling sad or Tearful                       1048292\n",
      "Irritable towards baby & partner             1048292\n",
      "Trouble sleeping at night                    1048292\n",
      "Problems concentrating or making decision    1048292\n",
      "Overeating or loss of appetite               1048292\n",
      "Feeling anxious                              1048292\n",
      "Feeling of guilt                             1048292\n",
      "Problems of bonding with baby                1048292\n",
      "Suicide attempt                              1048292\n",
      "Marital_status                                  1503\n",
      "Sleep_night_duration                            1503\n",
      "dtype: int64\n"
     ]
    }
   ],
   "source": [
    "\n",
    "print(\"\\nMissing Values in Merged Dataset:\\n\", merged_df.isnull().sum())\n"
   ]
  },
  {
   "cell_type": "code",
   "execution_count": 22,
   "metadata": {},
   "outputs": [
    {
     "name": "stdout",
     "output_type": "stream",
     "text": [
      "\n",
      "Postpartum Dataset Shape: (1503, 10)\n",
      "Maternal Mental Health Dataset Shape: (1048292, 2)\n",
      "\n",
      "Postpartum Data Sample:\n",
      "    Age  Feeling sad or Tearful  Irritable towards baby & partner  \\\n",
      "0    4                       2                                 2   \n",
      "1    5                       2                                 0   \n",
      "2    4                       2                                 0   \n",
      "3    4                       2                                 2   \n",
      "4    5                       2                                 0   \n",
      "\n",
      "   Trouble sleeping at night  Problems concentrating or making decision  \\\n",
      "0                          1                                          2   \n",
      "1                          0                                          2   \n",
      "2                          2                                          2   \n",
      "3                          2                                          2   \n",
      "4                          1                                          2   \n",
      "\n",
      "   Overeating or loss of appetite  Feeling anxious  Feeling of guilt  \\\n",
      "0                               2                1                 1   \n",
      "1                               2                0                 2   \n",
      "2                               2                1                 1   \n",
      "3                               0                1                 0   \n",
      "4                               0                1                 1   \n",
      "\n",
      "   Problems of bonding with baby  Suicide attempt  \n",
      "0                              2                2  \n",
      "1                              2                0  \n",
      "2                              1                0  \n",
      "3                              0                0  \n",
      "4                              2                0  \n",
      "\n",
      "Maternal Mental Health Data Sample:\n",
      "    Marital_status_Autre  Sleep_night_duration_bb1\n",
      "0                     2                         8\n",
      "1                     2                        10\n",
      "2                     2                        13\n",
      "3                     2                        10\n",
      "4                     2                         9\n"
     ]
    }
   ],
   "source": [
    "\n",
    "df_postpartum = pd.read_csv(\"/Users/dawnenakey/postpartum-depression-analysis/cleaned_postpartum_data.csv\")\n",
    "df_maternal = pd.read_csv(\"/Users/dawnenakey/postpartum-depression-analysis/cleaned_maternal_data.csv\")\n",
    "\n",
    "print(\"\\nPostpartum Dataset Shape:\", df_postpartum.shape)\n",
    "print(\"Maternal Mental Health Dataset Shape:\", df_maternal.shape)\n",
    "\n",
    "print(\"\\nPostpartum Data Sample:\\n\", df_postpartum.head())\n",
    "print(\"\\nMaternal Mental Health Data Sample:\\n\", df_maternal.head())\n"
   ]
  },
  {
   "cell_type": "code",
   "execution_count": 23,
   "metadata": {},
   "outputs": [
    {
     "name": "stdout",
     "output_type": "stream",
     "text": [
      "✅ Data Prepared for Model Training.\n",
      "Training Set Shape: (1052, 9), Validation Set Shape: (225, 9), Test Set Shape: (226, 9)\n"
     ]
    }
   ],
   "source": [
    "import pandas as pd\n",
    "from sklearn.model_selection import train_test_split\n",
    "from sklearn.preprocessing import StandardScaler\n",
    "\n",
    "df = pd.read_csv(\"cleaned_postpartum_data.csv\")\n",
    "\n",
    "X = df.drop(columns=[\"Suicide attempt\"])  \n",
    "y = df[\"Suicide attempt\"]  \n",
    "\n",
    "X_train, X_temp, y_train, y_temp = train_test_split(X, y, test_size=0.3, random_state=42, stratify=y)\n",
    "X_val, X_test, y_val, y_test = train_test_split(X_temp, y_temp, test_size=0.5, random_state=42, stratify=y_temp)\n",
    "\n",
    "scaler = StandardScaler()\n",
    "X_train = scaler.fit_transform(X_train)\n",
    "X_val = scaler.transform(X_val)\n",
    "X_test = scaler.transform(X_test)\n",
    "\n",
    "print(\" Data Prepared for Model Training.\")\n",
    "print(f\"Training Set Shape: {X_train.shape}, Validation Set Shape: {X_val.shape}, Test Set Shape: {X_test.shape}\")\n"
   ]
  },
  {
   "cell_type": "code",
   "execution_count": 24,
   "metadata": {},
   "outputs": [
    {
     "name": "stdout",
     "output_type": "stream",
     "text": [
      "✅ Logistic Regression Accuracy: 0.58\n"
     ]
    }
   ],
   "source": [
    "from sklearn.linear_model import LogisticRegression\n",
    "from sklearn.metrics import accuracy_score\n",
    "\n",
    "lr_model = LogisticRegression(max_iter=500, random_state=42)\n",
    "lr_model.fit(X_train, y_train)\n",
    "\n",
    "y_pred_lr = lr_model.predict(X_val)\n",
    "\n",
    "lr_acc = accuracy_score(y_val, y_pred_lr)\n",
    "print(f\"✅ Logistic Regression Accuracy: {lr_acc:.2f}\")\n"
   ]
  },
  {
   "cell_type": "code",
   "execution_count": 25,
   "metadata": {},
   "outputs": [
    {
     "name": "stdout",
     "output_type": "stream",
     "text": [
      "✅ Random Forest Accuracy: 0.98\n"
     ]
    }
   ],
   "source": [
    "from sklearn.ensemble import RandomForestClassifier\n",
    "\n",
    "rf_model = RandomForestClassifier(n_estimators=100, random_state=42)\n",
    "rf_model.fit(X_train, y_train)\n",
    "\n",
    "y_pred_rf = rf_model.predict(X_val)\n",
    "\n",
    "rf_acc = accuracy_score(y_val, y_pred_rf)\n",
    "print(f\" Random Forest Accuracy: {rf_acc:.2f}\")\n"
   ]
  },
  {
   "cell_type": "code",
   "execution_count": 30,
   "metadata": {},
   "outputs": [
    {
     "name": "stdout",
     "output_type": "stream",
     "text": [
      "Requirement already satisfied: xgboost in /Users/dawnenakey/myenv/lib/python3.13/site-packages (2.1.4)\n",
      "Requirement already satisfied: numpy in /Users/dawnenakey/myenv/lib/python3.13/site-packages (from xgboost) (2.2.2)\n",
      "Requirement already satisfied: scipy in /Users/dawnenakey/myenv/lib/python3.13/site-packages (from xgboost) (1.15.1)\n",
      "\n",
      "\u001b[1m[\u001b[0m\u001b[34;49mnotice\u001b[0m\u001b[1;39;49m]\u001b[0m\u001b[39;49m A new release of pip is available: \u001b[0m\u001b[31;49m24.3.1\u001b[0m\u001b[39;49m -> \u001b[0m\u001b[32;49m25.0.1\u001b[0m\n",
      "\u001b[1m[\u001b[0m\u001b[34;49mnotice\u001b[0m\u001b[1;39;49m]\u001b[0m\u001b[39;49m To update, run: \u001b[0m\u001b[32;49mpip install --upgrade pip\u001b[0m\n",
      "Note: you may need to restart the kernel to use updated packages.\n"
     ]
    }
   ],
   "source": [
    "\n",
    "pip install xgboost --no-cache-dir\n"
   ]
  },
  {
   "cell_type": "code",
   "execution_count": 32,
   "metadata": {},
   "outputs": [
    {
     "name": "stdout",
     "output_type": "stream",
     "text": [
      "✅ XGBoost Accuracy: 0.98\n"
     ]
    }
   ],
   "source": [
    "from xgboost import XGBClassifier\n",
    "\n",
    "xgb_model = XGBClassifier(eval_metric=\"logloss\", random_state=42)  \n",
    "xgb_model.fit(X_train, y_train)\n",
    "\n",
    "y_pred_xgb = xgb_model.predict(X_val)\n",
    "\n",
    "xgb_acc = accuracy_score(y_val, y_pred_xgb)\n",
    "print(f\" XGBoost Accuracy: {xgb_acc:.2f}\")\n"
   ]
  },
  {
   "cell_type": "code",
   "execution_count": 33,
   "metadata": {},
   "outputs": [
    {
     "name": "stdout",
     "output_type": "stream",
     "text": [
      "\n",
      "✅ Model Performance Comparison:\n",
      "                 Model  Accuracy\n",
      "0  Logistic Regression  0.582222\n",
      "1        Random Forest  0.977778\n",
      "2              XGBoost  0.982222\n"
     ]
    }
   ],
   "source": [
    "import pandas as pd\n",
    "\n",
    "results = pd.DataFrame({\n",
    "    \"Model\": [\"Logistic Regression\", \"Random Forest\", \"XGBoost\"],\n",
    "    \"Accuracy\": [lr_acc, rf_acc, xgb_acc]\n",
    "})\n",
    "\n",
    "print(\"\\n Model Performance Comparison:\")\n",
    "print(results)\n"
   ]
  },
  {
   "cell_type": "code",
   "execution_count": 34,
   "metadata": {},
   "outputs": [
    {
     "data": {
      "image/png": "[encoded data removed]",
      "text/plain": [
       "<Figure size 600x400 with 2 Axes>"
      ]
     },
     "metadata": {},
     "output_type": "display_data"
    }
   ],
   "source": [
    "from sklearn.metrics import confusion_matrix\n",
    "import seaborn as sns\n",
    "import matplotlib.pyplot as plt\n",
    "\n",
    "best_model = rf_model\n",
    "y_pred_best = y_pred_rf \n",
    "\n",
    "conf_matrix = confusion_matrix(y_val, y_pred_best)\n",
    "\n",
    "plt.figure(figsize=(6, 4))\n",
    "sns.heatmap(conf_matrix, annot=True, fmt=\"d\", cmap=\"Blues\")\n",
    "plt.xlabel(\"Predicted\")\n",
    "plt.ylabel(\"Actual\")\n",
    "plt.title(\"Confusion Matrix - Best Model\")\n",
    "plt.show()\n"
   ]
  },
  {
   "cell_type": "code",
   "execution_count": 35,
   "metadata": {},
   "outputs": [
    {
     "data": {
      "image/png": "[encoded data removed]",
      "text/plain": [
       "<Figure size 1000x500 with 1 Axes>"
      ]
     },
     "metadata": {},
     "output_type": "display_data"
    }
   ],
   "source": [
    "\n",
    "feature_importances = pd.DataFrame({\n",
    "    \"Feature\": df.drop(columns=[\"Suicide attempt\"]).columns,\n",
    "    \"Importance\": rf_model.feature_importances_\n",
    "}).sort_values(by=\"Importance\", ascending=False)\n",
    "\n",
    "plt.figure(figsize=(10, 5))\n",
    "sns.barplot(x=\"Importance\", y=\"Feature\", data=feature_importances)\n",
    "plt.title(\"Feature Importance - Random Forest Model\")\n",
    "plt.show()\n"
   ]
  },
  {
   "cell_type": "code",
   "execution_count": 36,
   "metadata": {},
   "outputs": [
    {
     "name": "stdout",
     "output_type": "stream",
     "text": [
      "\n",
      "✅ Model Performance Comparison:\n",
      "                  Model  Accuracy  Precision    Recall  F1-Score\n",
      "0  Logistic Regression  0.582222   0.579825  0.582222  0.574464\n",
      "1        Random Forest  0.977778   0.978752  0.977778  0.977658\n",
      "2              XGBoost  0.982222   0.982778  0.982222  0.982158\n"
     ]
    }
   ],
   "source": [
    "import pandas as pd\n",
    "from sklearn.metrics import precision_score, recall_score, f1_score\n",
    "\n",
    "models = {\n",
    "    \"Logistic Regression\": (lr_model, y_pred_lr),\n",
    "    \"Random Forest\": (rf_model, y_pred_rf),\n",
    "    \"XGBoost\": (xgb_model, y_pred_xgb)\n",
    "}\n",
    "\n",
    "results = []\n",
    "for model_name, (model, y_pred) in models.items():\n",
    "    acc = accuracy_score(y_val, y_pred)\n",
    "    precision = precision_score(y_val, y_pred, average='weighted')\n",
    "    recall = recall_score(y_val, y_pred, average='weighted')\n",
    "    f1 = f1_score(y_val, y_pred, average='weighted')\n",
    "    \n",
    "    results.append([model_name, acc, precision, recall, f1])\n",
    "\n",
    "df_results = pd.DataFrame(results, columns=[\"Model\", \"Accuracy\", \"Precision\", \"Recall\", \"F1-Score\"])\n",
    "print(\"\\n Model Performance Comparison:\\n\", df_results)\n"
   ]
  },
  {
   "cell_type": "code",
   "execution_count": 37,
   "metadata": {},
   "outputs": [
    {
     "data": {
      "image/png": "[encoded data removed]",
      "text/plain": [
       "<Figure size 600x400 with 2 Axes>"
      ]
     },
     "metadata": {},
     "output_type": "display_data"
    }
   ],
   "source": [
    "import seaborn as sns\n",
    "import matplotlib.pyplot as plt\n",
    "from sklearn.metrics import confusion_matrix\n",
    "\n",
    "best_model_name = df_results.loc[df_results['Accuracy'].idxmax(), 'Model']\n",
    "best_model, y_pred_best = models[best_model_name]\n",
    "\n",
    "conf_matrix = confusion_matrix(y_val, y_pred_best)\n",
    "\n",
    "plt.figure(figsize=(6, 4))\n",
    "sns.heatmap(conf_matrix, annot=True, fmt=\"d\", cmap=\"Blues\")\n",
    "plt.xlabel(\"Predicted\")\n",
    "plt.ylabel(\"Actual\")\n",
    "plt.title(f\"Confusion Matrix - Best Model ({best_model_name})\")\n",
    "plt.show()\n"
   ]
  },
  {
   "cell_type": "code",
   "execution_count": 39,
   "metadata": {},
   "outputs": [],
   "source": [
    "\n",
    "if best_model_name == \"Random Forest\":\n",
    "    feature_importances = pd.DataFrame({\n",
    "        \"Feature\": df.drop(columns=[\"Suicide attempt\"]).columns,\n",
    "        \"Importance\": rf_model.feature_importances_\n",
    "    }).sort_values(by=\"Importance\", ascending=False)\n",
    "\n",
    "    plt.figure(figsize=(10, 5))\n",
    "    sns.barplot(x=\"Importance\", y=\"Feature\", data=feature_importances)\n",
    "    plt.title(f\"Feature Importance - {best_model_name}\")\n",
    "    plt.show()\n"
   ]
  },
  {
   "cell_type": "code",
   "execution_count": 2,
   "metadata": {},
   "outputs": [
    {
     "name": "stdout",
     "output_type": "stream",
     "text": [
      "Collecting xgboost\n",
      "  Using cached xgboost-2.1.4-py3-none-macosx_10_15_x86_64.macosx_11_0_x86_64.macosx_12_0_x86_64.whl.metadata (2.1 kB)\n",
      "Requirement already satisfied: numpy in ./venv/lib/python3.13/site-packages (from xgboost) (2.2.1)\n",
      "Requirement already satisfied: scipy in ./venv/lib/python3.13/site-packages (from xgboost) (1.15.0)\n",
      "Using cached xgboost-2.1.4-py3-none-macosx_10_15_x86_64.macosx_11_0_x86_64.macosx_12_0_x86_64.whl (2.1 MB)\n",
      "Installing collected packages: xgboost\n",
      "Successfully installed xgboost-2.1.4\n",
      "\n",
      "\u001b[1m[\u001b[0m\u001b[34;49mnotice\u001b[0m\u001b[1;39;49m]\u001b[0m\u001b[39;49m A new release of pip is available: \u001b[0m\u001b[31;49m24.3.1\u001b[0m\u001b[39;49m -> \u001b[0m\u001b[32;49m25.0.1\u001b[0m\n",
      "\u001b[1m[\u001b[0m\u001b[34;49mnotice\u001b[0m\u001b[1;39;49m]\u001b[0m\u001b[39;49m To update, run: \u001b[0m\u001b[32;49mpython3.13 -m pip install --upgrade pip\u001b[0m\n",
      "Note: you may need to restart the kernel to use updated packages.\n"
     ]
    }
   ],
   "source": [
    "pip install xgboost"
   ]
  },
  {
   "cell_type": "code",
   "execution_count": 3,
   "metadata": {},
   "outputs": [
    {
     "name": "stdout",
     "output_type": "stream",
     "text": [
      "Requirement already satisfied: seaborn in ./venv/lib/python3.13/site-packages (0.13.2)\n",
      "Requirement already satisfied: numpy!=1.24.0,>=1.20 in ./venv/lib/python3.13/site-packages (from seaborn) (2.2.1)\n",
      "Requirement already satisfied: pandas>=1.2 in ./venv/lib/python3.13/site-packages (from seaborn) (2.2.3)\n",
      "Requirement already satisfied: matplotlib!=3.6.1,>=3.4 in ./venv/lib/python3.13/site-packages (from seaborn) (3.10.0)\n",
      "Requirement already satisfied: contourpy>=1.0.1 in ./venv/lib/python3.13/site-packages (from matplotlib!=3.6.1,>=3.4->seaborn) (1.3.1)\n",
      "Requirement already satisfied: cycler>=0.10 in ./venv/lib/python3.13/site-packages (from matplotlib!=3.6.1,>=3.4->seaborn) (0.12.1)\n",
      "Requirement already satisfied: fonttools>=4.22.0 in ./venv/lib/python3.13/site-packages (from matplotlib!=3.6.1,>=3.4->seaborn) (4.55.3)\n",
      "Requirement already satisfied: kiwisolver>=1.3.1 in ./venv/lib/python3.13/site-packages (from matplotlib!=3.6.1,>=3.4->seaborn) (1.4.8)\n",
      "Requirement already satisfied: packaging>=20.0 in ./venv/lib/python3.13/site-packages (from matplotlib!=3.6.1,>=3.4->seaborn) (24.2)\n",
      "Requirement already satisfied: pillow>=8 in ./venv/lib/python3.13/site-packages (from matplotlib!=3.6.1,>=3.4->seaborn) (11.1.0)\n",
      "Requirement already satisfied: pyparsing>=2.3.1 in ./venv/lib/python3.13/site-packages (from matplotlib!=3.6.1,>=3.4->seaborn) (3.2.1)\n",
      "Requirement already satisfied: python-dateutil>=2.7 in ./venv/lib/python3.13/site-packages (from matplotlib!=3.6.1,>=3.4->seaborn) (2.9.0.post0)\n",
      "Requirement already satisfied: pytz>=2020.1 in ./venv/lib/python3.13/site-packages (from pandas>=1.2->seaborn) (2024.2)\n",
      "Requirement already satisfied: tzdata>=2022.7 in ./venv/lib/python3.13/site-packages (from pandas>=1.2->seaborn) (2024.2)\n",
      "Requirement already satisfied: six>=1.5 in ./venv/lib/python3.13/site-packages (from python-dateutil>=2.7->matplotlib!=3.6.1,>=3.4->seaborn) (1.17.0)\n",
      "\n",
      "\u001b[1m[\u001b[0m\u001b[34;49mnotice\u001b[0m\u001b[1;39;49m]\u001b[0m\u001b[39;49m A new release of pip is available: \u001b[0m\u001b[31;49m24.3.1\u001b[0m\u001b[39;49m -> \u001b[0m\u001b[32;49m25.0.1\u001b[0m\n",
      "\u001b[1m[\u001b[0m\u001b[34;49mnotice\u001b[0m\u001b[1;39;49m]\u001b[0m\u001b[39;49m To update, run: \u001b[0m\u001b[32;49mpython3.13 -m pip install --upgrade pip\u001b[0m\n",
      "Note: you may need to restart the kernel to use updated packages.\n"
     ]
    }
   ],
   "source": [
    "pip install seaborn"
   ]
  },
  {
   "cell_type": "code",
   "execution_count": 4,
   "metadata": {},
   "outputs": [],
   "source": [
    "import pandas as pd\n",
    "from sklearn.model_selection import train_test_split\n",
    "from sklearn.preprocessing import StandardScaler\n",
    "from sklearn.metrics import confusion_matrix, precision_recall_curve, roc_curve, auc\n",
    "import seaborn as sns\n",
    "import matplotlib.pyplot as plt\n",
    "from xgboost import XGBClassifier\n",
    "\n",
    "file_path = \"/Users/dawnenakey/postpartum-depression-analysis/cleaned_postpartum_data.csv\"\n",
    "df = pd.read_csv(file_path)\n",
    "\n",
    "X = df.drop(columns=[\"Suicide attempt\"])\n",
    "y = df[\"Suicide attempt\"]\n",
    "\n",
    "X_train, X_temp, y_train, y_temp = train_test_split(X, y, test_size=0.3, random_state=42, stratify=y)\n",
    "X_val, X_test, y_val, y_test = train_test_split(X_temp, y_temp, test_size=0.5, random_state=42, stratify=y_temp)\n",
    "\n",
    "scaler = StandardScaler()\n",
    "X_train = scaler.fit_transform(X_train)\n",
    "X_val = scaler.transform(X_val)\n",
    "X_test = scaler.transform(X_test)\n",
    "\n",
    "xgb_model = XGBClassifier(eval_metric=\"logloss\", random_state=42)\n",
    "xgb_model.fit(X_train, y_train)\n",
    "\n",
    "y_pred_xgb = xgb_model.predict(X_val)\n",
    "y_pred_probs_xgb = xgb_model.predict_proba(X_val)[:, 1]  # Get probability scores\n"
   ]
  },
  {
   "cell_type": "code",
   "execution_count": 6,
   "metadata": {},
   "outputs": [
    {
     "name": "stdout",
     "output_type": "stream",
     "text": [
      "Unique values in y_val: [2 0 1]\n"
     ]
    }
   ],
   "source": [
    "print(\"Unique values in y_val:\", y_val.unique())\n"
   ]
  },
  {
   "cell_type": "code",
   "execution_count": 8,
   "metadata": {},
   "outputs": [],
   "source": [
    "\n",
    "y_val_binary = (y_val > 0).astype(int)\n"
   ]
  },
  {
   "cell_type": "code",
   "execution_count": 9,
   "metadata": {},
   "outputs": [
    {
     "data": {
      "image/png": "[encoded data removed]",
      "text/plain": [
       "<Figure size 800x600 with 1 Axes>"
      ]
     },
     "metadata": {},
     "output_type": "display_data"
    },
    {
     "data": {
      "image/png": "[encoded data removed]",
      "text/plain": [
       "<Figure size 800x600 with 1 Axes>"
      ]
     },
     "metadata": {},
     "output_type": "display_data"
    }
   ],
   "source": [
    "\n",
    "precision, recall, _ = precision_recall_curve(y_val_binary, y_pred_probs_xgb)\n",
    "plt.figure(figsize=(8, 6))\n",
    "plt.plot(recall, precision, marker=\".\", label=\"XGBoost\")\n",
    "plt.xlabel(\"Recall\")\n",
    "plt.ylabel(\"Precision\")\n",
    "plt.title(\"Precision-Recall Curve - XGBoost Model\")\n",
    "plt.legend()\n",
    "plt.show()\n",
    "\n",
    "fpr, tpr, _ = roc_curve(y_val_binary, y_pred_probs_xgb)\n",
    "roc_auc = auc(fpr, tpr)\n",
    "plt.figure(figsize=(8, 6))\n",
    "plt.plot(fpr, tpr, color=\"darkorange\", lw=2, label=f\"ROC Curve (area = {roc_auc:.2f})\")\n",
    "plt.plot([0, 1], [0, 1], color=\"navy\", linestyle=\"--\")\n",
    "plt.xlabel(\"False Positive Rate\")\n",
    "plt.ylabel(\"True Positive Rate\")\n",
    "plt.title(\"ROC Curve - XGBoost Model\")\n",
    "plt.legend(loc=\"lower right\")\n",
    "plt.show()\n"
   ]
  },
  {
   "cell_type": "code",
   "execution_count": 10,
   "metadata": {},
   "outputs": [
    {
     "data": {
      "image/png": "[encoded data removed]",
      "text/plain": [
       "<Figure size 600x400 with 2 Axes>"
      ]
     },
     "metadata": {},
     "output_type": "display_data"
    },
    {
     "ename": "ValueError",
     "evalue": "multiclass format is not supported",
     "output_type": "error",
     "traceback": [
      "\u001b[0;31m---------------------------------------------------------------------------\u001b[0m",
      "\u001b[0;31mValueError\u001b[0m                                Traceback (most recent call last)",
      "Cell \u001b[0;32mIn[10], line 11\u001b[0m\n\u001b[1;32m      8\u001b[0m plt\u001b[38;5;241m.\u001b[39mshow()\n\u001b[1;32m     10\u001b[0m \u001b[38;5;66;03m# ------- Visualization 2: Precision-Recall Curve -------\u001b[39;00m\n\u001b[0;32m---> 11\u001b[0m precision, recall, _ \u001b[38;5;241m=\u001b[39m \u001b[43mprecision_recall_curve\u001b[49m\u001b[43m(\u001b[49m\u001b[43my_val\u001b[49m\u001b[43m,\u001b[49m\u001b[43m \u001b[49m\u001b[43my_pred_probs_xgb\u001b[49m\u001b[43m)\u001b[49m\n\u001b[1;32m     12\u001b[0m plt\u001b[38;5;241m.\u001b[39mfigure(figsize\u001b[38;5;241m=\u001b[39m(\u001b[38;5;241m8\u001b[39m, \u001b[38;5;241m6\u001b[39m))\n\u001b[1;32m     13\u001b[0m plt\u001b[38;5;241m.\u001b[39mplot(recall, precision, marker\u001b[38;5;241m=\u001b[39m\u001b[38;5;124m\"\u001b[39m\u001b[38;5;124m.\u001b[39m\u001b[38;5;124m\"\u001b[39m, label\u001b[38;5;241m=\u001b[39m\u001b[38;5;124m\"\u001b[39m\u001b[38;5;124mXGBoost\u001b[39m\u001b[38;5;124m\"\u001b[39m)\n",
      "File \u001b[0;32m~/postpartum-depression-analysis/venv/lib/python3.13/site-packages/sklearn/utils/_param_validation.py:216\u001b[0m, in \u001b[0;36mvalidate_params.<locals>.decorator.<locals>.wrapper\u001b[0;34m(*args, **kwargs)\u001b[0m\n\u001b[1;32m    210\u001b[0m \u001b[38;5;28;01mtry\u001b[39;00m:\n\u001b[1;32m    211\u001b[0m     \u001b[38;5;28;01mwith\u001b[39;00m config_context(\n\u001b[1;32m    212\u001b[0m         skip_parameter_validation\u001b[38;5;241m=\u001b[39m(\n\u001b[1;32m    213\u001b[0m             prefer_skip_nested_validation \u001b[38;5;129;01mor\u001b[39;00m global_skip_validation\n\u001b[1;32m    214\u001b[0m         )\n\u001b[1;32m    215\u001b[0m     ):\n\u001b[0;32m--> 216\u001b[0m         \u001b[38;5;28;01mreturn\u001b[39;00m \u001b[43mfunc\u001b[49m\u001b[43m(\u001b[49m\u001b[38;5;241;43m*\u001b[39;49m\u001b[43margs\u001b[49m\u001b[43m,\u001b[49m\u001b[43m \u001b[49m\u001b[38;5;241;43m*\u001b[39;49m\u001b[38;5;241;43m*\u001b[39;49m\u001b[43mkwargs\u001b[49m\u001b[43m)\u001b[49m\n\u001b[1;32m    217\u001b[0m \u001b[38;5;28;01mexcept\u001b[39;00m InvalidParameterError \u001b[38;5;28;01mas\u001b[39;00m e:\n\u001b[1;32m    218\u001b[0m     \u001b[38;5;66;03m# When the function is just a wrapper around an estimator, we allow\u001b[39;00m\n\u001b[1;32m    219\u001b[0m     \u001b[38;5;66;03m# the function to delegate validation to the estimator, but we replace\u001b[39;00m\n\u001b[1;32m    220\u001b[0m     \u001b[38;5;66;03m# the name of the estimator by the name of the function in the error\u001b[39;00m\n\u001b[1;32m    221\u001b[0m     \u001b[38;5;66;03m# message to avoid confusion.\u001b[39;00m\n\u001b[1;32m    222\u001b[0m     msg \u001b[38;5;241m=\u001b[39m re\u001b[38;5;241m.\u001b[39msub(\n\u001b[1;32m    223\u001b[0m         \u001b[38;5;124mr\u001b[39m\u001b[38;5;124m\"\u001b[39m\u001b[38;5;124mparameter of \u001b[39m\u001b[38;5;124m\\\u001b[39m\u001b[38;5;124mw+ must be\u001b[39m\u001b[38;5;124m\"\u001b[39m,\n\u001b[1;32m    224\u001b[0m         \u001b[38;5;124mf\u001b[39m\u001b[38;5;124m\"\u001b[39m\u001b[38;5;124mparameter of \u001b[39m\u001b[38;5;132;01m{\u001b[39;00mfunc\u001b[38;5;241m.\u001b[39m\u001b[38;5;18m__qualname__\u001b[39m\u001b[38;5;132;01m}\u001b[39;00m\u001b[38;5;124m must be\u001b[39m\u001b[38;5;124m\"\u001b[39m,\n\u001b[1;32m    225\u001b[0m         \u001b[38;5;28mstr\u001b[39m(e),\n\u001b[1;32m    226\u001b[0m     )\n",
      "File \u001b[0;32m~/postpartum-depression-analysis/venv/lib/python3.13/site-packages/sklearn/metrics/_ranking.py:999\u001b[0m, in \u001b[0;36mprecision_recall_curve\u001b[0;34m(y_true, y_score, pos_label, sample_weight, drop_intermediate, probas_pred)\u001b[0m\n\u001b[1;32m    990\u001b[0m     warnings\u001b[38;5;241m.\u001b[39mwarn(\n\u001b[1;32m    991\u001b[0m         (\n\u001b[1;32m    992\u001b[0m             \u001b[38;5;124m\"\u001b[39m\u001b[38;5;124mprobas_pred was deprecated in version 1.5 and will be removed in 1.7.\u001b[39m\u001b[38;5;124m\"\u001b[39m\n\u001b[0;32m   (...)\u001b[0m\n\u001b[1;32m    995\u001b[0m         \u001b[38;5;167;01mFutureWarning\u001b[39;00m,\n\u001b[1;32m    996\u001b[0m     )\n\u001b[1;32m    997\u001b[0m     y_score \u001b[38;5;241m=\u001b[39m probas_pred\n\u001b[0;32m--> 999\u001b[0m fps, tps, thresholds \u001b[38;5;241m=\u001b[39m \u001b[43m_binary_clf_curve\u001b[49m\u001b[43m(\u001b[49m\n\u001b[1;32m   1000\u001b[0m \u001b[43m    \u001b[49m\u001b[43my_true\u001b[49m\u001b[43m,\u001b[49m\u001b[43m \u001b[49m\u001b[43my_score\u001b[49m\u001b[43m,\u001b[49m\u001b[43m \u001b[49m\u001b[43mpos_label\u001b[49m\u001b[38;5;241;43m=\u001b[39;49m\u001b[43mpos_label\u001b[49m\u001b[43m,\u001b[49m\u001b[43m \u001b[49m\u001b[43msample_weight\u001b[49m\u001b[38;5;241;43m=\u001b[39;49m\u001b[43msample_weight\u001b[49m\n\u001b[1;32m   1001\u001b[0m \u001b[43m\u001b[49m\u001b[43m)\u001b[49m\n\u001b[1;32m   1003\u001b[0m \u001b[38;5;28;01mif\u001b[39;00m drop_intermediate \u001b[38;5;129;01mand\u001b[39;00m \u001b[38;5;28mlen\u001b[39m(fps) \u001b[38;5;241m>\u001b[39m \u001b[38;5;241m2\u001b[39m:\n\u001b[1;32m   1004\u001b[0m     \u001b[38;5;66;03m# Drop thresholds corresponding to points where true positives (tps)\u001b[39;00m\n\u001b[1;32m   1005\u001b[0m     \u001b[38;5;66;03m# do not change from the previous or subsequent point. This will keep\u001b[39;00m\n\u001b[1;32m   1006\u001b[0m     \u001b[38;5;66;03m# only the first and last point for each tps value. All points\u001b[39;00m\n\u001b[1;32m   1007\u001b[0m     \u001b[38;5;66;03m# with the same tps value have the same recall and thus x coordinate.\u001b[39;00m\n\u001b[1;32m   1008\u001b[0m     \u001b[38;5;66;03m# They appear as a vertical line on the plot.\u001b[39;00m\n\u001b[1;32m   1009\u001b[0m     optimal_idxs \u001b[38;5;241m=\u001b[39m np\u001b[38;5;241m.\u001b[39mwhere(\n\u001b[1;32m   1010\u001b[0m         np\u001b[38;5;241m.\u001b[39mconcatenate(\n\u001b[1;32m   1011\u001b[0m             [[\u001b[38;5;28;01mTrue\u001b[39;00m], np\u001b[38;5;241m.\u001b[39mlogical_or(np\u001b[38;5;241m.\u001b[39mdiff(tps[:\u001b[38;5;241m-\u001b[39m\u001b[38;5;241m1\u001b[39m]), np\u001b[38;5;241m.\u001b[39mdiff(tps[\u001b[38;5;241m1\u001b[39m:])), [\u001b[38;5;28;01mTrue\u001b[39;00m]]\n\u001b[1;32m   1012\u001b[0m         )\n\u001b[1;32m   1013\u001b[0m     )[\u001b[38;5;241m0\u001b[39m]\n",
      "File \u001b[0;32m~/postpartum-depression-analysis/venv/lib/python3.13/site-packages/sklearn/metrics/_ranking.py:814\u001b[0m, in \u001b[0;36m_binary_clf_curve\u001b[0;34m(y_true, y_score, pos_label, sample_weight)\u001b[0m\n\u001b[1;32m    812\u001b[0m y_type \u001b[38;5;241m=\u001b[39m type_of_target(y_true, input_name\u001b[38;5;241m=\u001b[39m\u001b[38;5;124m\"\u001b[39m\u001b[38;5;124my_true\u001b[39m\u001b[38;5;124m\"\u001b[39m)\n\u001b[1;32m    813\u001b[0m \u001b[38;5;28;01mif\u001b[39;00m \u001b[38;5;129;01mnot\u001b[39;00m (y_type \u001b[38;5;241m==\u001b[39m \u001b[38;5;124m\"\u001b[39m\u001b[38;5;124mbinary\u001b[39m\u001b[38;5;124m\"\u001b[39m \u001b[38;5;129;01mor\u001b[39;00m (y_type \u001b[38;5;241m==\u001b[39m \u001b[38;5;124m\"\u001b[39m\u001b[38;5;124mmulticlass\u001b[39m\u001b[38;5;124m\"\u001b[39m \u001b[38;5;129;01mand\u001b[39;00m pos_label \u001b[38;5;129;01mis\u001b[39;00m \u001b[38;5;129;01mnot\u001b[39;00m \u001b[38;5;28;01mNone\u001b[39;00m)):\n\u001b[0;32m--> 814\u001b[0m     \u001b[38;5;28;01mraise\u001b[39;00m \u001b[38;5;167;01mValueError\u001b[39;00m(\u001b[38;5;124m\"\u001b[39m\u001b[38;5;132;01m{0}\u001b[39;00m\u001b[38;5;124m format is not supported\u001b[39m\u001b[38;5;124m\"\u001b[39m\u001b[38;5;241m.\u001b[39mformat(y_type))\n\u001b[1;32m    816\u001b[0m check_consistent_length(y_true, y_score, sample_weight)\n\u001b[1;32m    817\u001b[0m y_true \u001b[38;5;241m=\u001b[39m column_or_1d(y_true)\n",
      "\u001b[0;31mValueError\u001b[0m: multiclass format is not supported"
     ]
    }
   ],
   "source": [
    "# ------- Visualization 1: Confusion Matrix -------\n",
    "plt.figure(figsize=(6, 4))\n",
    "conf_matrix = confusion_matrix(y_val, y_pred_xgb)\n",
    "sns.heatmap(conf_matrix, annot=True, fmt=\"d\", cmap=\"Blues\", xticklabels=[\"No PPD\", \"PPD\"], yticklabels=[\"No PPD\", \"PPD\"])\n",
    "plt.xlabel(\"Predicted\")\n",
    "plt.ylabel(\"Actual\")\n",
    "plt.title(\"Confusion Matrix - XGBoost Model\")\n",
    "plt.show()\n",
    "\n",
    "# ------- Visualization 2: Precision-Recall Curve -------\n",
    "precision, recall, _ = precision_recall_curve(y_val, y_pred_probs_xgb)\n",
    "plt.figure(figsize=(8, 6))\n",
    "plt.plot(recall, precision, marker=\".\", label=\"XGBoost\")\n",
    "plt.xlabel(\"Recall\")\n",
    "plt.ylabel(\"Precision\")\n",
    "plt.title(\"Precision-Recall Curve - XGBoost Model\")\n",
    "plt.legend()\n",
    "plt.show()\n",
    "\n",
    "# ------- Visualization 3: ROC Curve & AUC Score -------\n",
    "fpr, tpr, _ = roc_curve(y_val, y_pred_probs_xgb)\n",
    "roc_auc = auc(fpr, tpr)\n",
    "plt.figure(figsize=(8, 6))\n",
    "plt.plot(fpr, tpr, color=\"darkorange\", lw=2, label=f\"ROC Curve (area = {roc_auc:.2f})\")\n",
    "plt.plot([0, 1], [0, 1], color=\"navy\", linestyle=\"--\")\n",
    "plt.xlabel(\"False Positive Rate\")\n",
    "plt.ylabel(\"True Positive Rate\")\n",
    "plt.title(\"ROC Curve - XGBoost Model\")\n",
    "plt.legend(loc=\"lower right\")\n",
    "plt.show()\n"
   ]
  },
  {
   "cell_type": "code",
   "execution_count": 13,
   "metadata": {},
   "outputs": [
    {
     "name": "stderr",
     "output_type": "stream",
     "text": [
      "/var/folders/5z/lvxb55rs025cbt7mw995_1gm0000gp/T/ipykernel_2768/1337255831.py:5: DtypeWarning: Columns (6,61) have mixed types. Specify dtype option on import or set low_memory=False.\n",
      "  df_maternal = pd.read_csv(\"/Users/dawnenakey/Downloads/Dataset_maternal_mental_health_infant_sleep.csv\", encoding=\"ISO-8859-1\")\n"
     ]
    },
    {
     "name": "stdout",
     "output_type": "stream",
     "text": [
      "Race/Ethnicity-related columns in Postpartum Dataset: []\n",
      "Race/Ethnicity-related columns in Maternal Mental Health Dataset: []\n"
     ]
    }
   ],
   "source": [
    "import pandas as pd\n",
    "\n",
    "df_postpartum = pd.read_csv(\"/Users/dawnenakey/postpartum-depression-analysis/cleaned_postpartum_data.csv\")\n",
    "df_maternal = pd.read_csv(\"/Users/dawnenakey/Downloads/Dataset_maternal_mental_health_infant_sleep.csv\", encoding=\"ISO-8859-1\")\n",
    "\n",
    "race_keywords = [\"race\", \"ethnicity\", \"ethnic\", \"racial\", \"background\"]\n",
    "race_columns_postpartum = [col for col in df_postpartum.columns if any(keyword in col.lower() for keyword in race_keywords)]\n",
    "race_columns_maternal = [col for col in df_maternal.columns if any(keyword in col.lower() for keyword in race_keywords)]\n",
    "\n",
    "print(\"Race/Ethnicity-related columns in Postpartum Dataset:\", race_columns_postpartum)\n",
    "print(\"Race/Ethnicity-related columns in Maternal Mental Health Dataset:\", race_columns_maternal)\n",
    "# this proves that there is no race/ethnicity related data in both "
   ]
  },
  {
   "cell_type": "code",
   "execution_count": 14,
   "metadata": {},
   "outputs": [
    {
     "name": "stdout",
     "output_type": "stream",
     "text": [
      "Index(['Age', 'Feeling sad or Tearful', 'Irritable towards baby & partner',\n",
      "       'Trouble sleeping at night',\n",
      "       'Problems concentrating or making decision',\n",
      "       'Overeating or loss of appetite', 'Feeling anxious', 'Feeling of guilt',\n",
      "       'Problems of bonding with baby', 'Suicide attempt'],\n",
      "      dtype='object')\n",
      "Index(['Participant_number', 'Type_parents', 'Birth_1mth_M_inclusion',\n",
      "       'Birth_12mth_M_inclusion', 'Age', 'Marital_status',\n",
      "       'Marital_status_Autre', 'Marital_status_edit', 'Education',\n",
      "       'Gestationnal_age', 'Type_pregnancy', 'sex_baby1', 'CBTS_M_3',\n",
      "       'CBTS_M_4', 'CBTS_M_5', 'CBTS_M_6', 'CBTS_M_7', 'CBTS_M_8', 'CBTS_M_9',\n",
      "       'CBTS_M_10', 'CBTS_M_11', 'CBTS_M_12', 'CBTS_13', 'CBTS_14', 'CBTS_15',\n",
      "       'CBTS_16', 'CBTS_17', 'CBTS_18', 'CBTS_19', 'CBTS_20', 'CBTS_21',\n",
      "       'CBTS_22', 'EPDS_1', 'EPDS_2', 'EPDS_3', 'EPDS_4', 'EPDS_5', 'EPDS_6',\n",
      "       'EPDS_7', 'EPDS_8', 'EPDS_9', 'EPDS_10', 'HADS_1', 'HADS_3', 'HADS_5',\n",
      "       'HADS_7', 'HADS_9', 'HADS_11', 'HADS_13', 'Child_survey_participation',\n",
      "       'Age_bb', 'IBQ_R_VSF_3_bb1', 'IBQ_R_VSF_4_bb1', 'IBQ_R_VSF_9_bb1',\n",
      "       'IBQ_R_VSF_10_bb1', 'IBQ_R_VSF_16_bb1', 'IBQ_R_VSF_17_bb1',\n",
      "       'IBQ_R_VSF_28_bb1', 'IBQ_R_VSF_29_bb1', 'IBQ_R_VSF_32_bb1',\n",
      "       'IBQ_R_VSF_33_bb1', 'Sleep_night_duration_bb1',\n",
      "       'night_awakening_number_bb1', 'how_falling_asleep_bb1'],\n",
      "      dtype='object')\n"
     ]
    }
   ],
   "source": [
    "print(df_postpartum.columns)\n",
    "print(df_maternal.columns)\n"
   ]
  },
  {
   "cell_type": "code",
   "execution_count": null,
   "metadata": {},
   "outputs": [],
   "source": []
  }
 ],
 "metadata": {
  "kernelspec": {
   "display_name": "venv",
   "language": "python",
   "name": "python3"
  },
  "language_info": {
   "codemirror_mode": {
    "name": "ipython",
    "version": 3
   },
   "file_extension": ".py",
   "mimetype": "text/x-python",
   "name": "python",
   "nbconvert_exporter": "python",
   "pygments_lexer": "ipython3",
   "version": "3.13.2"
  }
 },
 "nbformat": 4,
 "nbformat_minor": 4
}
